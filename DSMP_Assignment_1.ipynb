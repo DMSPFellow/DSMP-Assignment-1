{
  "nbformat": 4,
  "nbformat_minor": 0,
  "metadata": {
    "colab": {
      "provenance": []
    },
    "kernelspec": {
      "name": "python3",
      "display_name": "Python 3"
    },
    "language_info": {
      "name": "python"
    }
  },
  "cells": [
    {
      "cell_type": "code",
      "source": [
        "# Create an empty list\n",
        "numbers_list = []"
      ],
      "metadata": {
        "id": "m7kG6bzil12A"
      },
      "execution_count": 32,
      "outputs": []
    },
    {
      "cell_type": "code",
      "source": [
        "# We need to know how long list of numbers user wants\n",
        "list_length = int(input(\"Enter how much long list of numbers you want: \"))"
      ],
      "metadata": {
        "colab": {
          "base_uri": "https://localhost:8080/"
        },
        "id": "xo30W-8gmaZ5",
        "outputId": "9640acae-2ee7-4421-c413-10026ef4c124"
      },
      "execution_count": 33,
      "outputs": [
        {
          "name": "stdout",
          "output_type": "stream",
          "text": [
            "Enter how much long list of numbers you want: 6\n"
          ]
        }
      ]
    },
    {
      "cell_type": "code",
      "source": [
        "# We need to get numbers for the list from user 1-by-1 using for-loop\n",
        "for i in range(list_length):\n",
        "    number = float(input(\"Enter a number: \"))\n",
        "    numbers_list.append(number)"
      ],
      "metadata": {
        "colab": {
          "base_uri": "https://localhost:8080/"
        },
        "id": "YuFtkb45mE-3",
        "outputId": "5007d060-3a3d-40fe-bda8-227faa8f0e26"
      },
      "execution_count": 34,
      "outputs": [
        {
          "name": "stdout",
          "output_type": "stream",
          "text": [
            "Enter a number: 7.55\n",
            "Enter a number: -0.7\n",
            "Enter a number: 3.93\n",
            "Enter a number: 87\n",
            "Enter a number: 2.7\n",
            "Enter a number: -1\n"
          ]
        }
      ]
    },
    {
      "cell_type": "code",
      "execution_count": 35,
      "metadata": {
        "colab": {
          "base_uri": "https://localhost:8080/"
        },
        "id": "JxxdLZ_RjGuM",
        "outputId": "51c2bf91-a19c-44bf-de5f-87db17b25c69"
      },
      "outputs": [
        {
          "output_type": "execute_result",
          "data": {
            "text/plain": [
              "[7.55, -0.7, 3.93, 87.0, 2.7, -1.0]"
            ]
          },
          "metadata": {},
          "execution_count": 35
        }
      ],
      "source": [
        "# Print the list of numbers user added to list\n",
        "numbers_list"
      ]
    },
    {
      "cell_type": "code",
      "source": [
        "# Absolute values of the list\n",
        "abs_num_list = []\n",
        "for i in range(list_length):\n",
        "    abs_num_list.append(abs(numbers_list[i]))"
      ],
      "metadata": {
        "id": "u5ORJ2a1jg-a"
      },
      "execution_count": 44,
      "outputs": []
    },
    {
      "cell_type": "code",
      "source": [
        "abs_num_list"
      ],
      "metadata": {
        "colab": {
          "base_uri": "https://localhost:8080/"
        },
        "id": "nKN23BPXkACL",
        "outputId": "70346060-2326-4b47-eb40-99ff42662034"
      },
      "execution_count": 45,
      "outputs": [
        {
          "output_type": "execute_result",
          "data": {
            "text/plain": [
              "[7.55, 0.7, 3.93, 87.0, 2.7, 1.0]"
            ]
          },
          "metadata": {},
          "execution_count": 45
        }
      ]
    },
    {
      "cell_type": "code",
      "source": [
        "numbers_list"
      ],
      "metadata": {
        "colab": {
          "base_uri": "https://localhost:8080/"
        },
        "id": "JIK_cH-_lpAE",
        "outputId": "98a9e8fd-a040-4811-f9b5-55446653d291"
      },
      "execution_count": 39,
      "outputs": [
        {
          "output_type": "execute_result",
          "data": {
            "text/plain": [
              "[7.55, -0.7, 3.93, 87.0, 2.7, -1.0]"
            ]
          },
          "metadata": {},
          "execution_count": 39
        }
      ]
    },
    {
      "cell_type": "code",
      "source": [
        "# Minimum value of the list\n",
        "min(numbers_list)"
      ],
      "metadata": {
        "colab": {
          "base_uri": "https://localhost:8080/"
        },
        "id": "RP2kPq8rqbTE",
        "outputId": "af4a48ea-93ca-4fb3-87f9-a76d5294aec5"
      },
      "execution_count": 40,
      "outputs": [
        {
          "output_type": "execute_result",
          "data": {
            "text/plain": [
              "-1.0"
            ]
          },
          "metadata": {},
          "execution_count": 40
        }
      ]
    },
    {
      "cell_type": "code",
      "source": [
        "print(f\"Min value of the list is {min(numbers_list)}\")"
      ],
      "metadata": {
        "colab": {
          "base_uri": "https://localhost:8080/"
        },
        "id": "yYFpF9BEqba6",
        "outputId": "ef9a8190-515e-4fdb-a7e9-78b1004011f8"
      },
      "execution_count": 41,
      "outputs": [
        {
          "output_type": "stream",
          "name": "stdout",
          "text": [
            "Min value of the list is -1.0\n"
          ]
        }
      ]
    },
    {
      "cell_type": "code",
      "source": [
        "# Maximum value of the list\n",
        "max(numbers_list)"
      ],
      "metadata": {
        "colab": {
          "base_uri": "https://localhost:8080/"
        },
        "id": "iVAD3lY0qbj6",
        "outputId": "ec1ace76-e88a-4a92-cc93-06229c974664"
      },
      "execution_count": 42,
      "outputs": [
        {
          "output_type": "execute_result",
          "data": {
            "text/plain": [
              "87.0"
            ]
          },
          "metadata": {},
          "execution_count": 42
        }
      ]
    },
    {
      "cell_type": "code",
      "source": [
        "print(f\"Max value of the list is {max(numbers_list)}\")"
      ],
      "metadata": {
        "colab": {
          "base_uri": "https://localhost:8080/"
        },
        "id": "4zAkTtsBqbp-",
        "outputId": "ff0c6d5a-046d-4b75-ebcb-077c6053ea4b"
      },
      "execution_count": 43,
      "outputs": [
        {
          "output_type": "stream",
          "name": "stdout",
          "text": [
            "Max value of the list is 87.0\n"
          ]
        }
      ]
    }
  ]
}