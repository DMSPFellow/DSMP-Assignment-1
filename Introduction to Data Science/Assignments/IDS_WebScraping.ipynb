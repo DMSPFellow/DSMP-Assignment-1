{
 "cells": [
  {
   "cell_type": "code",
   "execution_count": 1,
   "metadata": {
    "id": "I5riPyg8y1Rf"
   },
   "outputs": [],
   "source": [
    "#import important libraries\n",
    "\n",
    "import requests\n",
    "from bs4 import BeautifulSoup"
   ]
  },
  {
   "cell_type": "code",
   "execution_count": 2,
   "metadata": {
    "id": "Ym7okMVizBKi"
   },
   "outputs": [],
   "source": [
    "#create an object to fetch HTML from a webpage\n",
    "\n",
    "response = requests.get(\"http://www.cuilahore.edu.pk\")"
   ]
  },
  {
   "cell_type": "code",
   "execution_count": null,
   "metadata": {
    "id": "0osQ-csuzE_P"
   },
   "outputs": [],
   "source": [
    "#call different functions associated with the (reponse) object\n",
    "\n",
    "response.status_code\n",
    "response.content\n",
    "response.text\n",
    "response.headers\n",
    "response.headers['Server']"
   ]
  },
  {
   "cell_type": "code",
   "execution_count": null,
   "metadata": {
    "id": "G7AwZGMB382O"
   },
   "outputs": [],
   "source": [
    "#use BeautifulSoup and html5lib to parse HTML text\n",
    "\n",
    "response = requests.get(\"https://www.bbc.com/urdu\")\n",
    "root = BeautifulSoup(response.content, 'html5lib')\n",
    "\n",
    "#prettify() is used to format HTML text with proper indents\n",
    "print(root.prettify())"
   ]
  },
  {
   "cell_type": "code",
   "execution_count": null,
   "metadata": {
    "id": "mfYlu6O1rF75"
   },
   "outputs": [],
   "source": [
    "#use a loop to parse through HTML text and get to the data you want to extract\n",
    "#it will filter out all the tags and data you do not need\n",
    "\n",
    "for row in root.find_all('a', attrs = {'class':'bbc-1fxtbkn ecljyjm0'}):\n",
    "  print (row.span.text)"
   ]
  },
  {
   "cell_type": "code",
   "execution_count": null,
   "metadata": {
    "id": "9LAMev3yJi3D"
   },
   "outputs": [],
   "source": [
    "#a simple web scrapper for \"inspirational quotes\" website to fetch all the motivational quotes from the website main page\n",
    "\n",
    "response = requests.get(\"http://www.values.com/inspirational-quotes\")\n",
    "soup = BeautifulSoup(response.content, 'html5lib')\n",
    "\n",
    "#this will create a list (similar to array in other langauges)\n",
    "quotes = []\n",
    "\n",
    "table = soup.find('div', attrs = {'id':'all_quotes'}) \n",
    "\n",
    "for row in table.findAll('img'):\n",
    "  quote = {}\n",
    "  quote = row['alt'].split(\" #\")[0]\n",
    "  quotes.append(quote)\n",
    "\n",
    "for q in quotes:\n",
    "  print(q)"
   ]
  }
 ],
 "metadata": {
  "colab": {
   "provenance": []
  },
  "kernelspec": {
   "display_name": "Python 3 (ipykernel)",
   "language": "python",
   "name": "python3"
  },
  "language_info": {
   "codemirror_mode": {
    "name": "ipython",
    "version": 3
   },
   "file_extension": ".py",
   "mimetype": "text/x-python",
   "name": "python",
   "nbconvert_exporter": "python",
   "pygments_lexer": "ipython3",
   "version": "3.11.5"
  }
 },
 "nbformat": 4,
 "nbformat_minor": 1
}
